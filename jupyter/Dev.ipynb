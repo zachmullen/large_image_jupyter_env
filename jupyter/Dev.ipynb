{
 "cells": [
  {
   "cell_type": "code",
   "execution_count": null,
   "id": "ec557694",
   "metadata": {
    "tags": []
   },
   "outputs": [],
   "source": [
    "import large_image\n",
    "\n",
    "path = 'TC_NG_SFBay_US_Geo_COG.tif'\n",
    "\n",
    "source = large_image.open(\n",
    "    path,\n",
    "    encoding=\"PNG\",\n",
    "    projection=\"EPSG:3857\",\n",
    ")\n",
    "source"
   ]
  },
  {
   "cell_type": "code",
   "execution_count": null,
   "id": "81e453c9-1893-4f99-b42e-c461eca16e96",
   "metadata": {},
   "outputs": [],
   "source": []
  }
 ],
 "metadata": {
  "kernelspec": {
   "display_name": "Python 3 (ipykernel)",
   "language": "python",
   "name": "python3"
  },
  "language_info": {
   "codemirror_mode": {
    "name": "ipython",
    "version": 3
   },
   "file_extension": ".py",
   "mimetype": "text/x-python",
   "name": "python",
   "nbconvert_exporter": "python",
   "pygments_lexer": "ipython3",
   "version": "3.10.11"
  }
 },
 "nbformat": 4,
 "nbformat_minor": 5
}
