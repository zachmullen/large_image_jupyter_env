{
 "cells": [
  {
   "cell_type": "code",
   "execution_count": 1,
   "id": "ec557694",
   "metadata": {
    "tags": []
   },
   "outputs": [
    {
     "name": "stderr",
     "output_type": "stream",
     "text": [
      "/usr/local/lib/python3.10/site-packages/osgeo/gdal.py:288: FutureWarning: Neither gdal.UseExceptions() nor gdal.DontUseExceptions() has been explicitly called. In GDAL 4.0, exceptions will be enabled by default.\n",
      "  warnings.warn(\n"
     ]
    },
    {
     "data": {
      "application/vnd.jupyter.widget-view+json": {
       "model_id": "ef2e0753e48147fdb384058beb7bedf2",
       "version_major": 2,
       "version_minor": 0
      },
      "text/plain": [
       "Map(center=[37.752214941926994, -122.41877581711466], controls=(ZoomControl(options=['position', 'zoom_in_text…"
      ]
     },
     "metadata": {},
     "output_type": "display_data"
    }
   ],
   "source": [
    "%load_ext autoreload\n",
    "%autoreload 2\n",
    "\n",
    "import large_image_source_gdal\n",
    "\n",
    "path = 'TC_NG_SFBay_US_Geo_COG.tif'\n",
    "\n",
    "source = large_image_source_gdal.open(\n",
    "    path,\n",
    "    encoding=\"PNG\",\n",
    "    projection=\"EPSG:3857\",\n",
    ")\n",
    "source"
   ]
  },
  {
   "cell_type": "code",
   "execution_count": 2,
   "id": "153cccab-984b-4e9e-ab9c-c0491da420b5",
   "metadata": {
    "tags": []
   },
   "outputs": [
    {
     "data": {
      "text/plain": [
       "'foo'"
      ]
     },
     "execution_count": 2,
     "metadata": {},
     "output_type": "execute_result"
    }
   ],
   "source": [
    "source.other_prop"
   ]
  },
  {
   "cell_type": "code",
   "execution_count": null,
   "id": "e1f89080-157c-40da-b278-18e0d04c37d2",
   "metadata": {},
   "outputs": [],
   "source": []
  }
 ],
 "metadata": {
  "kernelspec": {
   "display_name": "Python 3 (ipykernel)",
   "language": "python",
   "name": "python3"
  },
  "language_info": {
   "codemirror_mode": {
    "name": "ipython",
    "version": 3
   },
   "file_extension": ".py",
   "mimetype": "text/x-python",
   "name": "python",
   "nbconvert_exporter": "python",
   "pygments_lexer": "ipython3",
   "version": "3.10.11"
  }
 },
 "nbformat": 4,
 "nbformat_minor": 5
}
